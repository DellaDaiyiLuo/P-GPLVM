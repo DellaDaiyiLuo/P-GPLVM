{
 "cells": [
  {
   "cell_type": "code",
   "execution_count": 1,
   "id": "uniform-temperature",
   "metadata": {},
   "outputs": [
    {
     "name": "stderr",
     "output_type": "stream",
     "text": [
      "/home/kemerelab/nelpy/nelpy/plotting/decoding.py:9: MatplotlibDeprecationWarning: \n",
      "The mpl_toolkits.axes_grid module was deprecated in Matplotlib 2.1 and will be removed two minor releases later. Use mpl_toolkits.axes_grid1 and mpl_toolkits.axisartist, which provide the same functionality instead.\n"
     ]
    }
   ],
   "source": [
    "import nelpy as nel\n",
    "import pandas as pd\n",
    "import scipy.ndimage.filters\n",
    "import os\n",
    "import sys\n",
    "import warnings\n",
    "import numpy as np\n",
    "import pickle\n",
    "import random\n",
    "\n",
    "import copy\n",
    "import matplotlib.pyplot as plt\n",
    "from scipy.io import loadmat, savemat"
   ]
  },
  {
   "cell_type": "code",
   "execution_count": null,
   "id": "impossible-extent",
   "metadata": {},
   "outputs": [],
   "source": [
    "rundata = loadmat('maze1_run_v1_5_v2_10.mat')['pos_linear'].squeeze()"
   ]
  },
  {
   "cell_type": "code",
   "execution_count": null,
   "id": "complex-reducing",
   "metadata": {},
   "outputs": [],
   "source": []
  },
  {
   "cell_type": "code",
   "execution_count": null,
   "id": "instructional-puppy",
   "metadata": {},
   "outputs": [],
   "source": []
  },
  {
   "cell_type": "code",
   "execution_count": null,
   "id": "biblical-pizza",
   "metadata": {},
   "outputs": [],
   "source": []
  },
  {
   "cell_type": "code",
   "execution_count": null,
   "id": "miniature-bread",
   "metadata": {},
   "outputs": [],
   "source": []
  },
  {
   "cell_type": "code",
   "execution_count": null,
   "id": "curious-african",
   "metadata": {},
   "outputs": [],
   "source": []
  },
  {
   "cell_type": "code",
   "execution_count": 2,
   "id": "elder-payday",
   "metadata": {},
   "outputs": [],
   "source": [
    "PBEs_origin = nel.load_pkl('pbe_post1.nel')"
   ]
  },
  {
   "cell_type": "code",
   "execution_count": 3,
   "id": "baking-forest",
   "metadata": {},
   "outputs": [
    {
     "data": {
      "text/plain": [
       "<BinnedSpikeTrainArray at 0x7f3ec36b78e0: 109 ['1', '2', '3', '4', '5', '6', '7', '8', '9', '10', '11', '12', '13', '14', '15', '16', '17', '18', '19', '20', '21', '22', '23', '24', '25', '26', '27', '28', '29', '30', '31', '32', '33', '34', '35', '36', '37', '38', '39', '40', '41', '42', '43', '44', '45', '46', '47', '48', '49', '50', '51', '52', '53', '54', '55', '56', '57', '58', '59', '60', '61', '62', '63', '64', '65', '66', '67', '68', '69', '70', '71', '72', '73', '74', '75', '76', '77', '78', '79', '80', '81', '82', '83', '84', '85', '86', '87', '88', '89', '90', '91', '92', '93', '94', '95', '96', '97', '98', '99', '100', '101', '102', '103', '104', '105', '106', '107', '108', '109'] (1,849 segments) in 34,534 bins of width 10.0 milliseconds> for a total of 5:45:340 minutes"
      ]
     },
     "execution_count": 3,
     "metadata": {},
     "output_type": "execute_result"
    }
   ],
   "source": [
    "bst = PBEs_origin.bin(ds=0.01)\n",
    "bst"
   ]
  },
  {
   "cell_type": "code",
   "execution_count": null,
   "id": "trying-suffering",
   "metadata": {},
   "outputs": [],
   "source": []
  }
 ],
 "metadata": {
  "kernelspec": {
   "display_name": "Python 3",
   "language": "python",
   "name": "python3"
  },
  "language_info": {
   "codemirror_mode": {
    "name": "ipython",
    "version": 3
   },
   "file_extension": ".py",
   "mimetype": "text/x-python",
   "name": "python",
   "nbconvert_exporter": "python",
   "pygments_lexer": "ipython3",
   "version": "3.8.10"
  }
 },
 "nbformat": 4,
 "nbformat_minor": 5
}
